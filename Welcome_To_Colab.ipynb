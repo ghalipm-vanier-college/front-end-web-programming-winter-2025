importnumpy as np
import matplotlib.pyplot as plt

# Generate x and y values from 0 to 100
x_values = np.arange(0, 101)  # 0 to 100
y_values = np.arange(0, 101)

# Create a meshgrid for x, y
X, Y = np.meshgrid(x_values, y_values)

# Compute z values
Z = X**2 + Y**2

# Create a 3D plot
fig = plt.figure(figsize=(10, 6))
ax = fig.add_subplot(111, projection='3d')

# Plot the surface
ax.plot_surface(X, Y, Z, cmap='viridis')

# Labels
ax.set_xlabel('X values')
ax.set_ylabel('Y values')
ax.set_zlabel('Z = X^2 + Y^2')
ax.set_title('3D Plot of Z = X² + Y²')

# Show plot
plt.show()


